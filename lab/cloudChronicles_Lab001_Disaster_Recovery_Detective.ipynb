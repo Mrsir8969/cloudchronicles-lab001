{
  "cells": [
    {
      "cell_type": "markdown",
      "id": "0f1e0979",
      "metadata": {},
      "source": [
        "# 🧠 cloudChronicles Lab #001: Disaster Recovery Detective\n",
        "\n",
        "**Lab Type:** Idea  \n",
        "**Estimated Time:** 30–45 mins  \n",
        "**Skill Level:** Beginner"
      ]
    },
    {
      "cell_type": "code",
      "execution_count": null,
      "id": "a97f86ab",
      "metadata": {},
      "outputs": [],
      "source": [
        "# Let's begin by printing your name to personalize the notebook\n",
        "your_name = \"\"\n",
        "print(f\"Welcome to the lab, {your_name}!\")"
      ]
    },
    {
      "cell_type": "markdown",
      "id": "0f94d019",
      "metadata": {},
      "source": [
        "## 🔍 STAR Method Lab Prompt\n",
        "\n",
        "*A regional outage has occurred in Google Cloud's us-central1 region, impacting multiple services, including Cloud SQL databases, Cloud Storage, and Pub/Sub messaging systems. This has caused a service disruption affecting critical business applications that rely on high availability and minimal downtime.*\n",
        "\n",
        "**Task:**  \n",
        "The task is to quickly implement a failover and recovery process to ensure business continuity during the outage. The plan will leverage Google Cloud tools like Cloud SQL replicas, multi-region Cloud Storage, and Pub/Sub alerts to minimize downtime and restore services.\n",
